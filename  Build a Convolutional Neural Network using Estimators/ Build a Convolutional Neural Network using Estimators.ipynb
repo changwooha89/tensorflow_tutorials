{
 "cells": [
  {
   "cell_type": "code",
   "execution_count": null,
   "metadata": {},
   "outputs": [],
   "source": [
    "# 19/2/11 시작 \n",
    "# 튜토리얼\n",
    "# https://www.tensorflow.org/tutorials/estimators/cnn\n",
    "# 전체코드\n",
    "# https://github.com/tensorflow/tensorflow/blob/master/tensorflow/examples/tutorials/layers/cnn_mnist.py"
   ]
  },
  {
   "cell_type": "code",
   "execution_count": 1,
   "metadata": {},
   "outputs": [],
   "source": [
    "from __future__ import absolute_import, division, print_function    #??\n",
    "\n",
    "import tensorflow as tf\n",
    "import numpy as np\n",
    "\n",
    "tf.logging.set_verbosity(tf.logging.INFO)    #??"
   ]
  },
  {
   "cell_type": "code",
   "execution_count": 2,
   "metadata": {},
   "outputs": [
    {
     "ename": "SyntaxError",
     "evalue": "invalid syntax (<ipython-input-2-c7b2d3160694>, line 19)",
     "output_type": "error",
     "traceback": [
      "\u001b[0;36m  File \u001b[0;32m\"<ipython-input-2-c7b2d3160694>\"\u001b[0;36m, line \u001b[0;32m19\u001b[0m\n\u001b[0;31m    conv2 = tf.layers.conv2d{\u001b[0m\n\u001b[0m                            ^\u001b[0m\n\u001b[0;31mSyntaxError\u001b[0m\u001b[0;31m:\u001b[0m invalid syntax\n"
     ]
    }
   ],
   "source": [
    "def cnn_model_fn(features, labels, mode):\n",
    "    \"\"\"Model function for CNN.\"\"\"\n",
    "    # Input layer\n",
    "    input_layer = tf.reshape(features[\"x\"], [-1, 28, 28, 1]) # -1 => features에 따라 결정(dynamic)\n",
    "    # Convolutional Layer #1\n",
    "    conv1 = tf.layers.conv2d(inputs = input_layer, \n",
    "                             filters=32, \n",
    "                             kernel_size=[5,5], \n",
    "                             padding=\"same\", \n",
    "                             activation=tf.nn.relu)\n",
    "    # output tensor produced by conv2d() has a shape of [batch_size, 28, 28, 32]\n",
    "    \n",
    "    #Pooling Layer #1\n",
    "    pool1 = tf.layers.max_pooling2d(inputs=conv1, pool_size[2, 2], strides = 2)\n",
    "    # input : [batch_size, image_height, image_width, channels]\n",
    "    # output : [batch_size, 14, 14, 32]\n",
    "    \n",
    "    # Convolutional Layer #2 and Pooling Layer #2\n",
    "    conv2 = tf.layers.conv2d{\n",
    "        inputs = pool1,\n",
    "        filters = 64,\n",
    "        kernel_size = [5, 5]\n",
    "        padding = \"same\",\n",
    "        activation=tf.nn.lu\n",
    "    }"
   ]
  },
  {
   "cell_type": "code",
   "execution_count": null,
   "metadata": {},
   "outputs": [],
   "source": []
  }
 ],
 "metadata": {
  "kernelspec": {
   "display_name": "Python 3",
   "language": "python",
   "name": "python3"
  },
  "language_info": {
   "codemirror_mode": {
    "name": "ipython",
    "version": 3
   },
   "file_extension": ".py",
   "mimetype": "text/x-python",
   "name": "python",
   "nbconvert_exporter": "python",
   "pygments_lexer": "ipython3",
   "version": "3.7.0"
  }
 },
 "nbformat": 4,
 "nbformat_minor": 2
}
